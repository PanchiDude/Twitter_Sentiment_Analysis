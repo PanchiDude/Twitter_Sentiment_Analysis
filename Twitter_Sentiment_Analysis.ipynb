{
  "nbformat": 4,
  "nbformat_minor": 0,
  "metadata": {
    "colab": {
      "name": "Twitter_Sentiment_Analysis.ipynb",
      "provenance": [],
      "collapsed_sections": [],
      "authorship_tag": "ABX9TyPl8Sumi0QBPiw01lFLQT8v",
      "include_colab_link": true
    },
    "kernelspec": {
      "name": "python3",
      "display_name": "Python 3"
    }
  },
  "cells": [
    {
      "cell_type": "markdown",
      "metadata": {
        "id": "view-in-github",
        "colab_type": "text"
      },
      "source": [
        "<a href=\"https://colab.research.google.com/github/PanchiDude/Twitter_Sentiment_Analysis/blob/main/Twitter_Sentiment_Analysis.ipynb\" target=\"_parent\"><img src=\"https://colab.research.google.com/assets/colab-badge.svg\" alt=\"Open In Colab\"/></a>"
      ]
    },
    {
      "cell_type": "code",
      "metadata": {
        "id": "eeVzjMnX1UwU"
      },
      "source": [
        "#This is a twitter sentiment analysis program using python\r\n",
        "\r\n",
        "#importing the required libraries\r\n",
        "import tweepy\r\n",
        "from textblob import TextBlob\r\n",
        "from wordcloud import WordCloud\r\n",
        "import pandas as pd\r\n",
        "import numpy as np\r\n",
        "import re\r\n",
        "import matplotlib.pyplot as plt\r\n",
        "plt.style.use('fivethirtyeight')"
      ],
      "execution_count": 158,
      "outputs": []
    },
    {
      "cell_type": "code",
      "metadata": {
        "id": "jnvMLtuFC6Fg"
      },
      "source": [
        "#Method1\r\n",
        "#Load the data using google libraries\r\n",
        "#from google.colab import files\r\n",
        "#upload_file = files.upload()"
      ],
      "execution_count": 159,
      "outputs": []
    },
    {
      "cell_type": "code",
      "metadata": {
        "id": "UZx1BG7cDT-x"
      },
      "source": [
        "#log= pd.read_csv('Details.csv')"
      ],
      "execution_count": 160,
      "outputs": []
    },
    {
      "cell_type": "code",
      "metadata": {
        "id": "zxSKEm5KDXb5"
      },
      "source": [
        "#consumerKey = log['key'][0]\r\n",
        "#consumerSecret = log['key'][1]\r\n",
        "#accessToken = log['key'][2]\r\n",
        "#accessTokenSecret = log['key'][3]\r\n",
        "#Method1 ends"
      ],
      "execution_count": 161,
      "outputs": []
    },
    {
      "cell_type": "code",
      "metadata": {
        "id": "j807Q42D45w7",
        "cellView": "form"
      },
      "source": [
        "#@title\n",
        "#Method2\n",
        "#Twitter API credentials\n",
        "consumerKey = \"gVrm6mtTpUhS50M7PkRumgB02\"\n",
        "consumerSecret = \"TJ0Gt64DhyL7wRHRtKWdnlihkDPyDkigF4gmmWaI5KPkOsfpCD\"\n",
        "accessToken = \"767765834-iUaxi0BqDEyyyUkxYTVbzpwf5Lug3cXs1krVXuuL\"\n",
        "accessTokenSecret = \"nFLhqEAHE3fOlfPSfAxf9reze4qLF1rDcmcsZkFzRMPqa\""
      ],
      "execution_count": 162,
      "outputs": []
    },
    {
      "cell_type": "code",
      "metadata": {
        "id": "aUilqtMy8TcP",
        "colab": {
          "base_uri": "https://localhost:8080/"
        },
        "outputId": "838ab500-9e30-43be-9178-a6b736f5deec"
      },
      "source": [
        "#Create the authentication object\r\n",
        "authenticate = tweepy.OAuthHandler(consumerKey,consumerSecret)\r\n",
        "\r\n",
        "#Set access token and access token secret\r\n",
        "authenticate.set_access_token(accessToken,accessTokenSecret)\r\n",
        "\r\n",
        "#Create the API object while passing in the auth information\r\n",
        "api = tweepy.API(authenticate,wait_on_rate_limit = True)\r\n",
        "\r\n",
        "#Print my name to confirm validation\r\n",
        "print(api.me().name)"
      ],
      "execution_count": 163,
      "outputs": [
        {
          "output_type": "stream",
          "text": [
            "Priyanshu Saxena\n"
          ],
          "name": "stdout"
        }
      ]
    },
    {
      "cell_type": "code",
      "metadata": {
        "id": "04HkTcxk8_NR",
        "colab": {
          "base_uri": "https://localhost:8080/"
        },
        "outputId": "8ee8a64b-69e8-4823-c1ac-0629469035e4"
      },
      "source": [
        "#Extract 100 tweets from user or hashtags\r\n",
        "#####posts = api.user_timeline(screen_name= \"BillGates\", count=100, lang = \"en\", tweet_mode=\"extended\")\r\n",
        "\r\n",
        "#To do analysis on hashtags\r\n",
        "search_query=\"#farmerprotest\"\r\n",
        "posts = api.search(q=search_query,count=100,lang=\"en\",tweet_mode='extended')\r\n",
        "\r\n",
        " #Print the last 5 tweets from the account\r\n",
        "print(\"Show the last 5 tweet:\\n\")\r\n",
        "i=1\r\n",
        "for tweet in posts[0:5]:\r\n",
        " print(str(i) + ') ' + tweet.full_text + '\\n')\r\n",
        " i = i+1"
      ],
      "execution_count": 164,
      "outputs": [
        {
          "output_type": "stream",
          "text": [
            "Show the last 5 tweet:\n",
            "\n",
            "1) RT @VoiceOfJustic10: Did you trust your PM on 15 lakhs?\n",
            "Did you trust your PM on give me 50 days for demonetization?\n",
            "Did you trust your PM…\n",
            "\n",
            "2) RT @TheDeshBhakt: #CAAProtests\n",
            "#TablighiJamaat\n",
            "#MigrantCrisis\n",
            "#SSRDeath\n",
            "#FarmerProtest\n",
            "#EconomicDownturn\n",
            "In 2020, every step of the way- ci…\n",
            "\n",
            "3) RT @AmritKLohia: Tomorrow - I’ll be joining my fellow Sikh artists from UK, CAN &amp; USA for a second event of expressing solidarity with the…\n",
            "\n",
            "4) RT @MankamalSingh: “Judaange, Ladaange, Jeetange! (United, we will fight and win)” reads Trolley Times’ front-page headline \n",
            "‘Media not por…\n",
            "\n",
            "5) The Indian team wanted to support the farmers protest and mistook MSP for Minimum Score Possible.😄😄. \n",
            "\n",
            "#AUSvIND #INDvsAUS @BCCI @ICC #FarmerProtest #ModiWithFarmers #INDvsAUSTest\n",
            "\n"
          ],
          "name": "stdout"
        }
      ]
    },
    {
      "cell_type": "code",
      "metadata": {
        "colab": {
          "base_uri": "https://localhost:8080/",
          "height": 195
        },
        "id": "7h6zr1MIKUaj",
        "outputId": "0b71b88a-e07a-46a1-812b-301ec5f92fe3"
      },
      "source": [
        "#Create a dataframe with a column called Tweets (In tabular form)\r\n",
        "df=pd.DataFrame ( [tweet.full_text for tweet in posts], columns=['Tweets'])\r\n",
        "\r\n",
        "#Show the first 5 rows of data\r\n",
        "df.head()"
      ],
      "execution_count": 165,
      "outputs": [
        {
          "output_type": "execute_result",
          "data": {
            "text/html": [
              "<div>\n",
              "<style scoped>\n",
              "    .dataframe tbody tr th:only-of-type {\n",
              "        vertical-align: middle;\n",
              "    }\n",
              "\n",
              "    .dataframe tbody tr th {\n",
              "        vertical-align: top;\n",
              "    }\n",
              "\n",
              "    .dataframe thead th {\n",
              "        text-align: right;\n",
              "    }\n",
              "</style>\n",
              "<table border=\"1\" class=\"dataframe\">\n",
              "  <thead>\n",
              "    <tr style=\"text-align: right;\">\n",
              "      <th></th>\n",
              "      <th>Tweets</th>\n",
              "    </tr>\n",
              "  </thead>\n",
              "  <tbody>\n",
              "    <tr>\n",
              "      <th>0</th>\n",
              "      <td>RT @VoiceOfJustic10: Did you trust your PM on ...</td>\n",
              "    </tr>\n",
              "    <tr>\n",
              "      <th>1</th>\n",
              "      <td>RT @TheDeshBhakt: #CAAProtests\\n#TablighiJamaa...</td>\n",
              "    </tr>\n",
              "    <tr>\n",
              "      <th>2</th>\n",
              "      <td>RT @AmritKLohia: Tomorrow - I’ll be joining my...</td>\n",
              "    </tr>\n",
              "    <tr>\n",
              "      <th>3</th>\n",
              "      <td>RT @MankamalSingh: “Judaange, Ladaange, Jeetan...</td>\n",
              "    </tr>\n",
              "    <tr>\n",
              "      <th>4</th>\n",
              "      <td>The Indian team wanted to support the farmers ...</td>\n",
              "    </tr>\n",
              "  </tbody>\n",
              "</table>\n",
              "</div>"
            ],
            "text/plain": [
              "                                              Tweets\n",
              "0  RT @VoiceOfJustic10: Did you trust your PM on ...\n",
              "1  RT @TheDeshBhakt: #CAAProtests\\n#TablighiJamaa...\n",
              "2  RT @AmritKLohia: Tomorrow - I’ll be joining my...\n",
              "3  RT @MankamalSingh: “Judaange, Ladaange, Jeetan...\n",
              "4  The Indian team wanted to support the farmers ..."
            ]
          },
          "metadata": {
            "tags": []
          },
          "execution_count": 165
        }
      ]
    },
    {
      "cell_type": "code",
      "metadata": {
        "colab": {
          "base_uri": "https://localhost:8080/",
          "height": 402
        },
        "id": "XPMV_CtfK4Jx",
        "outputId": "4e3d84d3-306e-4ea4-cdec-e3d7dbb4cb88"
      },
      "source": [
        "#Cleaning text\r\n",
        "\r\n",
        "#Creating a function to clean the tweets\r\n",
        "def cleanData(text):\r\n",
        "  text = re.sub(r'@[A-Za-z0-9]+', '', text) #removes @mentions\r\n",
        "  #r tells python that expression is a raw string\r\n",
        "  #re.sub means subtitute text matching the given pattern and replace with the second parameter i.e. ''\r\n",
        "  text = re.sub(r'#', '', text) #removes hashtags symbol\r\n",
        "  text = re.sub(r'RT[\\s]+', '', text) #removes retweets\r\n",
        "  text = re.sub(r'https?:\\/\\/\\S+', '', text) #removes hyperlink which may have https or only http\r\n",
        "\r\n",
        "  return text\r\n",
        "#Cleaning the text\r\n",
        "df['Tweets'] = df['Tweets'].apply(cleanData)\r\n",
        "\r\n",
        "#Display the clean text\r\n",
        "df"
      ],
      "execution_count": 166,
      "outputs": [
        {
          "output_type": "execute_result",
          "data": {
            "text/html": [
              "<div>\n",
              "<style scoped>\n",
              "    .dataframe tbody tr th:only-of-type {\n",
              "        vertical-align: middle;\n",
              "    }\n",
              "\n",
              "    .dataframe tbody tr th {\n",
              "        vertical-align: top;\n",
              "    }\n",
              "\n",
              "    .dataframe thead th {\n",
              "        text-align: right;\n",
              "    }\n",
              "</style>\n",
              "<table border=\"1\" class=\"dataframe\">\n",
              "  <thead>\n",
              "    <tr style=\"text-align: right;\">\n",
              "      <th></th>\n",
              "      <th>Tweets</th>\n",
              "    </tr>\n",
              "  </thead>\n",
              "  <tbody>\n",
              "    <tr>\n",
              "      <th>0</th>\n",
              "      <td>: Did you trust your PM on 15 lakhs?\\nDid you ...</td>\n",
              "    </tr>\n",
              "    <tr>\n",
              "      <th>1</th>\n",
              "      <td>: CAAProtests\\nTablighiJamaat\\nMigrantCrisis\\n...</td>\n",
              "    </tr>\n",
              "    <tr>\n",
              "      <th>2</th>\n",
              "      <td>: Tomorrow - I’ll be joining my fellow Sikh ar...</td>\n",
              "    </tr>\n",
              "    <tr>\n",
              "      <th>3</th>\n",
              "      <td>: “Judaange, Ladaange, Jeetange! (United, we w...</td>\n",
              "    </tr>\n",
              "    <tr>\n",
              "      <th>4</th>\n",
              "      <td>The Indian team wanted to support the farmers ...</td>\n",
              "    </tr>\n",
              "    <tr>\n",
              "      <th>...</th>\n",
              "      <td>...</td>\n",
              "    </tr>\n",
              "    <tr>\n",
              "      <th>95</th>\n",
              "      <td>: Kind attention:  \\nIStandWithFarmers \\nFarme...</td>\n",
              "    </tr>\n",
              "    <tr>\n",
              "      <th>96</th>\n",
              "      <td>Its my regular practice.\\nStep1-Open the prof...</td>\n",
              "    </tr>\n",
              "    <tr>\n",
              "      <th>97</th>\n",
              "      <td>: Modi doesn't know who he's dealing with. \\nF...</td>\n",
              "    </tr>\n",
              "    <tr>\n",
              "      <th>98</th>\n",
              "      <td>Modi doesn't know who he's dealing with. \\nFar...</td>\n",
              "    </tr>\n",
              "    <tr>\n",
              "      <th>99</th>\n",
              "      <td>_india: ~Woollen Clothes~\\n\\nOur teams are dis...</td>\n",
              "    </tr>\n",
              "  </tbody>\n",
              "</table>\n",
              "<p>100 rows × 1 columns</p>\n",
              "</div>"
            ],
            "text/plain": [
              "                                               Tweets\n",
              "0   : Did you trust your PM on 15 lakhs?\\nDid you ...\n",
              "1   : CAAProtests\\nTablighiJamaat\\nMigrantCrisis\\n...\n",
              "2   : Tomorrow - I’ll be joining my fellow Sikh ar...\n",
              "3   : “Judaange, Ladaange, Jeetange! (United, we w...\n",
              "4   The Indian team wanted to support the farmers ...\n",
              "..                                                ...\n",
              "95  : Kind attention:  \\nIStandWithFarmers \\nFarme...\n",
              "96   Its my regular practice.\\nStep1-Open the prof...\n",
              "97  : Modi doesn't know who he's dealing with. \\nF...\n",
              "98  Modi doesn't know who he's dealing with. \\nFar...\n",
              "99  _india: ~Woollen Clothes~\\n\\nOur teams are dis...\n",
              "\n",
              "[100 rows x 1 columns]"
            ]
          },
          "metadata": {
            "tags": []
          },
          "execution_count": 166
        }
      ]
    },
    {
      "cell_type": "code",
      "metadata": {
        "colab": {
          "base_uri": "https://localhost:8080/",
          "height": 402
        },
        "id": "nqdebW2AOGDl",
        "outputId": "2f504d10-f997-442d-c939-fcadc2a8560b"
      },
      "source": [
        "#function to get the subjectivity\r\n",
        "def getSubjectivity(text):\r\n",
        "  return TextBlob(text).sentiment.subjectivity #Subjectivity tell how subjective or opinionated the text is\r\n",
        "\r\n",
        "#funtion to get polarity\r\n",
        "def getPolarity(text):\r\n",
        "  return TextBlob(text).sentiment.polarity #Polarity is how + or - the text is\r\n",
        "\r\n",
        "#Create two new columns\r\n",
        "df['Subjectivity']= df['Tweets'].apply(getSubjectivity)\r\n",
        "df['Polarity']= df['Tweets'].apply(getPolarity)\r\n",
        "\r\n",
        "#Display df with the new columns\r\n",
        "df"
      ],
      "execution_count": 167,
      "outputs": [
        {
          "output_type": "execute_result",
          "data": {
            "text/html": [
              "<div>\n",
              "<style scoped>\n",
              "    .dataframe tbody tr th:only-of-type {\n",
              "        vertical-align: middle;\n",
              "    }\n",
              "\n",
              "    .dataframe tbody tr th {\n",
              "        vertical-align: top;\n",
              "    }\n",
              "\n",
              "    .dataframe thead th {\n",
              "        text-align: right;\n",
              "    }\n",
              "</style>\n",
              "<table border=\"1\" class=\"dataframe\">\n",
              "  <thead>\n",
              "    <tr style=\"text-align: right;\">\n",
              "      <th></th>\n",
              "      <th>Tweets</th>\n",
              "      <th>Subjectivity</th>\n",
              "      <th>Polarity</th>\n",
              "    </tr>\n",
              "  </thead>\n",
              "  <tbody>\n",
              "    <tr>\n",
              "      <th>0</th>\n",
              "      <td>: Did you trust your PM on 15 lakhs?\\nDid you ...</td>\n",
              "      <td>0.000000</td>\n",
              "      <td>0.000</td>\n",
              "    </tr>\n",
              "    <tr>\n",
              "      <th>1</th>\n",
              "      <td>: CAAProtests\\nTablighiJamaat\\nMigrantCrisis\\n...</td>\n",
              "      <td>0.000000</td>\n",
              "      <td>0.000</td>\n",
              "    </tr>\n",
              "    <tr>\n",
              "      <th>2</th>\n",
              "      <td>: Tomorrow - I’ll be joining my fellow Sikh ar...</td>\n",
              "      <td>0.000000</td>\n",
              "      <td>0.000</td>\n",
              "    </tr>\n",
              "    <tr>\n",
              "      <th>3</th>\n",
              "      <td>: “Judaange, Ladaange, Jeetange! (United, we w...</td>\n",
              "      <td>0.400000</td>\n",
              "      <td>0.800</td>\n",
              "    </tr>\n",
              "    <tr>\n",
              "      <th>4</th>\n",
              "      <td>The Indian team wanted to support the farmers ...</td>\n",
              "      <td>0.000000</td>\n",
              "      <td>0.000</td>\n",
              "    </tr>\n",
              "    <tr>\n",
              "      <th>...</th>\n",
              "      <td>...</td>\n",
              "      <td>...</td>\n",
              "      <td>...</td>\n",
              "    </tr>\n",
              "    <tr>\n",
              "      <th>95</th>\n",
              "      <td>: Kind attention:  \\nIStandWithFarmers \\nFarme...</td>\n",
              "      <td>0.900000</td>\n",
              "      <td>0.600</td>\n",
              "    </tr>\n",
              "    <tr>\n",
              "      <th>96</th>\n",
              "      <td>Its my regular practice.\\nStep1-Open the prof...</td>\n",
              "      <td>0.538462</td>\n",
              "      <td>0.125</td>\n",
              "    </tr>\n",
              "    <tr>\n",
              "      <th>97</th>\n",
              "      <td>: Modi doesn't know who he's dealing with. \\nF...</td>\n",
              "      <td>0.000000</td>\n",
              "      <td>0.000</td>\n",
              "    </tr>\n",
              "    <tr>\n",
              "      <th>98</th>\n",
              "      <td>Modi doesn't know who he's dealing with. \\nFar...</td>\n",
              "      <td>0.000000</td>\n",
              "      <td>0.000</td>\n",
              "    </tr>\n",
              "    <tr>\n",
              "      <th>99</th>\n",
              "      <td>_india: ~Woollen Clothes~\\n\\nOur teams are dis...</td>\n",
              "      <td>0.600000</td>\n",
              "      <td>-0.200</td>\n",
              "    </tr>\n",
              "  </tbody>\n",
              "</table>\n",
              "<p>100 rows × 3 columns</p>\n",
              "</div>"
            ],
            "text/plain": [
              "                                               Tweets  Subjectivity  Polarity\n",
              "0   : Did you trust your PM on 15 lakhs?\\nDid you ...      0.000000     0.000\n",
              "1   : CAAProtests\\nTablighiJamaat\\nMigrantCrisis\\n...      0.000000     0.000\n",
              "2   : Tomorrow - I’ll be joining my fellow Sikh ar...      0.000000     0.000\n",
              "3   : “Judaange, Ladaange, Jeetange! (United, we w...      0.400000     0.800\n",
              "4   The Indian team wanted to support the farmers ...      0.000000     0.000\n",
              "..                                                ...           ...       ...\n",
              "95  : Kind attention:  \\nIStandWithFarmers \\nFarme...      0.900000     0.600\n",
              "96   Its my regular practice.\\nStep1-Open the prof...      0.538462     0.125\n",
              "97  : Modi doesn't know who he's dealing with. \\nF...      0.000000     0.000\n",
              "98  Modi doesn't know who he's dealing with. \\nFar...      0.000000     0.000\n",
              "99  _india: ~Woollen Clothes~\\n\\nOur teams are dis...      0.600000    -0.200\n",
              "\n",
              "[100 rows x 3 columns]"
            ]
          },
          "metadata": {
            "tags": []
          },
          "execution_count": 167
        }
      ]
    },
    {
      "cell_type": "code",
      "metadata": {
        "colab": {
          "base_uri": "https://localhost:8080/",
          "height": 256
        },
        "id": "gpVxg48UPY2n",
        "outputId": "6a75a723-8746-45c5-8e7a-1d6a7761cfec"
      },
      "source": [
        "#Plot The Word Cloud\r\n",
        "allWords = ' '.join( [twts for twts in df['Tweets']])\r\n",
        "WordCloud = WordCloud(width = 500, height =300, random_state =21, max_font_size = 119).generate(allWords)\r\n",
        "\r\n",
        "plt.imshow(WordCloud, interpolation=\"bilinear\")\r\n",
        "plt.axis('off')\r\n",
        "plt.show()"
      ],
      "execution_count": 168,
      "outputs": [
        {
          "output_type": "display_data",
          "data": {
            "image/png": "[encoded data removed]",
            "text/plain": [
              "<Figure size 432x288 with 1 Axes>"
            ]
          },
          "metadata": {
            "tags": []
          }
        }
      ]
    },
    {
      "cell_type": "code",
      "metadata": {
        "colab": {
          "base_uri": "https://localhost:8080/",
          "height": 402
        },
        "id": "bZ6iIUEvQuKm",
        "outputId": "50ebebde-f904-4695-987e-158b0243e96b"
      },
      "source": [
        "#funtion to compute the negative, neutral and positive analysis\r\n",
        "def getAnalysis(score):\r\n",
        "  if score < 0:\r\n",
        "    return 'Negative'\r\n",
        "  elif score == 0:\r\n",
        "    return 'Neutral'\r\n",
        "  else:\r\n",
        "    return 'Positive'\r\n",
        "\r\n",
        "#adding a new column\r\n",
        "df['Analysis'] = df['Polarity'].apply(getAnalysis)\r\n",
        "\r\n",
        "#Display df\r\n",
        "df"
      ],
      "execution_count": 169,
      "outputs": [
        {
          "output_type": "execute_result",
          "data": {
            "text/html": [
              "<div>\n",
              "<style scoped>\n",
              "    .dataframe tbody tr th:only-of-type {\n",
              "        vertical-align: middle;\n",
              "    }\n",
              "\n",
              "    .dataframe tbody tr th {\n",
              "        vertical-align: top;\n",
              "    }\n",
              "\n",
              "    .dataframe thead th {\n",
              "        text-align: right;\n",
              "    }\n",
              "</style>\n",
              "<table border=\"1\" class=\"dataframe\">\n",
              "  <thead>\n",
              "    <tr style=\"text-align: right;\">\n",
              "      <th></th>\n",
              "      <th>Tweets</th>\n",
              "      <th>Subjectivity</th>\n",
              "      <th>Polarity</th>\n",
              "      <th>Analysis</th>\n",
              "    </tr>\n",
              "  </thead>\n",
              "  <tbody>\n",
              "    <tr>\n",
              "      <th>0</th>\n",
              "      <td>: Did you trust your PM on 15 lakhs?\\nDid you ...</td>\n",
              "      <td>0.000000</td>\n",
              "      <td>0.000</td>\n",
              "      <td>Neutral</td>\n",
              "    </tr>\n",
              "    <tr>\n",
              "      <th>1</th>\n",
              "      <td>: CAAProtests\\nTablighiJamaat\\nMigrantCrisis\\n...</td>\n",
              "      <td>0.000000</td>\n",
              "      <td>0.000</td>\n",
              "      <td>Neutral</td>\n",
              "    </tr>\n",
              "    <tr>\n",
              "      <th>2</th>\n",
              "      <td>: Tomorrow - I’ll be joining my fellow Sikh ar...</td>\n",
              "      <td>0.000000</td>\n",
              "      <td>0.000</td>\n",
              "      <td>Neutral</td>\n",
              "    </tr>\n",
              "    <tr>\n",
              "      <th>3</th>\n",
              "      <td>: “Judaange, Ladaange, Jeetange! (United, we w...</td>\n",
              "      <td>0.400000</td>\n",
              "      <td>0.800</td>\n",
              "      <td>Positive</td>\n",
              "    </tr>\n",
              "    <tr>\n",
              "      <th>4</th>\n",
              "      <td>The Indian team wanted to support the farmers ...</td>\n",
              "      <td>0.000000</td>\n",
              "      <td>0.000</td>\n",
              "      <td>Neutral</td>\n",
              "    </tr>\n",
              "    <tr>\n",
              "      <th>...</th>\n",
              "      <td>...</td>\n",
              "      <td>...</td>\n",
              "      <td>...</td>\n",
              "      <td>...</td>\n",
              "    </tr>\n",
              "    <tr>\n",
              "      <th>95</th>\n",
              "      <td>: Kind attention:  \\nIStandWithFarmers \\nFarme...</td>\n",
              "      <td>0.900000</td>\n",
              "      <td>0.600</td>\n",
              "      <td>Positive</td>\n",
              "    </tr>\n",
              "    <tr>\n",
              "      <th>96</th>\n",
              "      <td>Its my regular practice.\\nStep1-Open the prof...</td>\n",
              "      <td>0.538462</td>\n",
              "      <td>0.125</td>\n",
              "      <td>Positive</td>\n",
              "    </tr>\n",
              "    <tr>\n",
              "      <th>97</th>\n",
              "      <td>: Modi doesn't know who he's dealing with. \\nF...</td>\n",
              "      <td>0.000000</td>\n",
              "      <td>0.000</td>\n",
              "      <td>Neutral</td>\n",
              "    </tr>\n",
              "    <tr>\n",
              "      <th>98</th>\n",
              "      <td>Modi doesn't know who he's dealing with. \\nFar...</td>\n",
              "      <td>0.000000</td>\n",
              "      <td>0.000</td>\n",
              "      <td>Neutral</td>\n",
              "    </tr>\n",
              "    <tr>\n",
              "      <th>99</th>\n",
              "      <td>_india: ~Woollen Clothes~\\n\\nOur teams are dis...</td>\n",
              "      <td>0.600000</td>\n",
              "      <td>-0.200</td>\n",
              "      <td>Negative</td>\n",
              "    </tr>\n",
              "  </tbody>\n",
              "</table>\n",
              "<p>100 rows × 4 columns</p>\n",
              "</div>"
            ],
            "text/plain": [
              "                                               Tweets  ...  Analysis\n",
              "0   : Did you trust your PM on 15 lakhs?\\nDid you ...  ...   Neutral\n",
              "1   : CAAProtests\\nTablighiJamaat\\nMigrantCrisis\\n...  ...   Neutral\n",
              "2   : Tomorrow - I’ll be joining my fellow Sikh ar...  ...   Neutral\n",
              "3   : “Judaange, Ladaange, Jeetange! (United, we w...  ...  Positive\n",
              "4   The Indian team wanted to support the farmers ...  ...   Neutral\n",
              "..                                                ...  ...       ...\n",
              "95  : Kind attention:  \\nIStandWithFarmers \\nFarme...  ...  Positive\n",
              "96   Its my regular practice.\\nStep1-Open the prof...  ...  Positive\n",
              "97  : Modi doesn't know who he's dealing with. \\nF...  ...   Neutral\n",
              "98  Modi doesn't know who he's dealing with. \\nFar...  ...   Neutral\n",
              "99  _india: ~Woollen Clothes~\\n\\nOur teams are dis...  ...  Negative\n",
              "\n",
              "[100 rows x 4 columns]"
            ]
          },
          "metadata": {
            "tags": []
          },
          "execution_count": 169
        }
      ]
    },
    {
      "cell_type": "code",
      "metadata": {
        "colab": {
          "base_uri": "https://localhost:8080/"
        },
        "id": "QPbPGPIlSy7c",
        "outputId": "1665154a-626b-48f7-bef0-0976bd4f3081"
      },
      "source": [
        "#Print all of the positive\r\n",
        "j=1\r\n",
        "sortedDF = df.sort_values(by=['Polarity'])\r\n",
        "for i in range(0, sortedDF.shape[0]): #Number of rows in a df\r\n",
        "  if (sortedDF['Analysis'][i]=='Positive'):\r\n",
        "    print(str(j) + ') ' + sortedDF['Tweets'][i] +'\\n')\r\n",
        "    #print()\r\n",
        "    j=j+1"
      ],
      "execution_count": 170,
      "outputs": [
        {
          "output_type": "stream",
          "text": [
            "1) : “Judaange, Ladaange, Jeetange! (United, we will fight and win)” reads Trolley Times’ front-page headline \n",
            "‘Media not por…\n",
            "\n",
            "2) _ag01    What is common sense imposing your decision mein sirf ek baat bol rha hu jitni bhi baatien tum type kr rhe ho unka ek bhi original fact dikha do farmerprotest isupportfarmers and if you really wanna do something for nation first you have to be unbiased\n",
            "\n",
            "3) Tomorrow - I’ll be joining my fellow Sikh artists from UK, CAN &amp; USA for a second event of expressing solidarity with the farmerprotest - I’ll be bringing my Lauryn Hill back for this! I am so proud of out community! ✊🏽 \n",
            "\n",
            "4) : India is first nation in the world where a law is passed first and then Govt offers to discuss it. \n",
            "\n",
            "farmersprotest S…\n",
            "\n",
            "5) great reporter\n",
            "FarmerProtest \n",
            "dafakarojionu \n",
            "FarmersDyingModiEnjoying \n",
            "\n",
            "6) _Aid: The volunteers helping the farmers at the protest are simply AMAZING !!! ⁣\n",
            "⁣\n",
            "Let’s show them our love &amp; appreciation 👏🏼👏🏼👏🏼…\n",
            "\n",
            "7) : Own Struggle, Own Protests, Own Newspaper: Trolley Times FarmerProtest \n",
            "\n",
            "8) : PLEASE KEEP YOUR LANGUAGE CLEAN !! \n",
            "\n",
            "I know emotions are running high but let’s not degrade ourselves by using foul langua…\n",
            "\n",
            "9) : what will and strength this bibi ji has to say she will not walk away until this ends! May that be she walks away alive or de…\n",
            "\n",
            "10) : Fiery new resistance song by Kanwar Grewal, whose FarmerProtest music is played continuously on the tractor trolleys hea…\n",
            "\n",
            "11) _india: ~Shelter home for women~\n",
            "\n",
            "Khalsa Aid has set up night shelter home for women at Tikri Border. It is going at full capa…\n",
            "\n",
            "12) _india: ~Shelter home for women~\n",
            "\n",
            "Khalsa Aid has set up night shelter home for women at Tikri Border. It is going at full capa…\n",
            "\n",
            "13) As we remember the martyrdom of GuruTeghBahadur Ji for all of India, so we recall the lessonslearned from this defining moment as farmers make a stand for all India's farmers and their way of life. As they peacefully protest, they also serve those that stop them\n",
            "FarmerProtest \n",
            "\n",
            "14) _Aid: Farmer Protest:⁣\n",
            "⁣\n",
            "Blankets distribution by our volunteers on the Tikri Border, Delhi. ⁣\n",
            "⁣\n",
            "We are blessed with amazing volu…\n",
            "\n",
            "15) Fiery new resistance song by Kanwar Grewal, whose FarmerProtest music is played continuously on the tractor trolleys heading to Delhi. Thanks for sharing,   \n",
            "\n",
            "\n",
            "\n",
            "16) June 2020 the Covid-19  was on peak. Entire world was facing Lockdown. No parliament was in motion. Then who passed farmer law 2020?  Clearly these laws were passed in the house of Ambani,Adani. These laws are big conspiracy of Modi and corporate against farmer\n",
            "FarmerProtest\n",
            "\n",
            "17) : Views of young sister on kangana’s comment on FarmerProtest FarmersBill FarmersBill2020 Bollywood DigitalKisan Dig…\n",
            "\n",
            "18)    Exactly! All BJP leaders should be questioned! You be surprised that most of them didn’t even read the bills FarmerProtest\n",
            "\n",
            "19) Views of young sister on kangana’s comment on FarmerProtest FarmersBill FarmersBill2020 Bollywood DigitalKisan DigitalKisanMorcha \n",
            "\n",
            "20) _india: ~Shelter home for women~\n",
            "\n",
            "Khalsa Aid has set up night shelter home for women at Tikri Border. It is going at full capa…\n",
            "\n",
            "21)  at his best explaining FarmerProtest \n",
            "\n",
            "\n",
            "22) _india: Thousands of farmers have been protesting at Delhi borders for more than three weeks. Farmers are hoping to reach the…\n",
            "\n",
            "23) : Drive Safely Please\n",
            "FarmersDyingModiEnjoying \n",
            "FarmerProtest \n",
            "\n",
            "24) : Let me take this opportunity to applaude the incredible work being done by DSGMC under the dynamic leadership of …\n",
            "\n",
            "25) : Uttarakhand Sikhs call for social boycott of those backing agriculture laws.\n",
            "FarmerProtest\n",
            "Tractor2Twitter\n",
            "FarmersDy…\n",
            "\n",
            "26) : Own Struggle, Own Protests, Own Newspaper: Trolley Times FarmerProtest \n",
            "\n",
            "27) : “Judaange, Ladaange, Jeetange! (United, we will fight and win)” reads Trolley Times’ front-page headline \n",
            "‘Media not por…\n",
            "\n",
            "28) : First of all, be a human. standwithfarmers farmersprotest farmerprotest takebackfarmlaws tractor2twitter farmersarelif…\n",
            "\n",
            "29) : The FarmerProtest isn’t a protest for any religion or communist or fascist ideology/objectives !! It’s purely a Farmer p…\n",
            "\n",
            "30) : “Judaange, Ladaange, Jeetange! (United, we will fight and win)” reads Trolley Times’ front-page headline \n",
            "‘Media not por…\n",
            "\n",
            "31) _Aid: The volunteers helping the farmers at the protest are simply AMAZING !!! ⁣\n",
            "⁣\n",
            "Let’s show them our love &amp; appreciation 👏🏼👏🏼👏🏼…\n",
            "\n",
            "32) _Aid: Farmer Protest:⁣\n",
            "⁣\n",
            "Blankets distribution by our volunteers on the Tikri Border, Delhi. ⁣\n",
            "⁣\n",
            "We are blessed with amazing volu…\n",
            "\n",
            "33) : Kind attention:  \n",
            "IStandWithFarmers \n",
            "FarmerProtest \n",
            "FarmerBill2020 \n",
            "FarmersDoneWithModiJumlas https:/…\n",
            "\n",
            "34)  Its my regular practice.\n",
            "Step1-Open the profile\n",
            "Step2-Find Symptoms of Bhakt disease\n",
            "Step3-Vaccine it [laa do teeka ;) ].\n",
            "FarmerProtest\n",
            "FarmersProtest\n",
            "Tractor2Twitter\n",
            "TakeBackFarmLaws\n",
            "isupportfarmers\n",
            "IStandWithFarmers\n",
            "fight_for_right \n",
            "FarmersDoneWithModiJumlas\n",
            "\n"
          ],
          "name": "stdout"
        }
      ]
    },
    {
      "cell_type": "code",
      "metadata": {
        "colab": {
          "base_uri": "https://localhost:8080/"
        },
        "id": "ahVfHGtfUKqS",
        "outputId": "fc78acee-efc8-4c16-85ed-567cfd2d8d3a"
      },
      "source": [
        "#Print all of the negative in descending order\r\n",
        "j=1\r\n",
        "sortedDF = df.sort_values(by=['Polarity'], ascending='False')\r\n",
        "for i in range(0, sortedDF.shape[0]): #Number of rows in a df\r\n",
        "  if (sortedDF['Analysis'][i]=='Negative'):\r\n",
        "    print(str(j) + ') ' + sortedDF['Tweets'][i] +'\\n')\r\n",
        "    #print()\r\n",
        "    j=j+1"
      ],
      "execution_count": 171,
      "outputs": [
        {
          "output_type": "stream",
          "text": [
            "1) CAAProtests\n",
            "TablighiJamaat\n",
            "MigrantCrisis\n",
            "SSRDeath\n",
            "FarmerProtest\n",
            "EconomicDownturn\n",
            "In 2020, every step of the way- citizens were misguided, misdirected &amp; mocked for asking hard questions\n",
            "2020 Rewind - DeshBhakt Year End Maha Episode. Watch / Share -   \n",
            "\n",
            "2) _Itsok:  Sir, Please include in it FarmerProtest due to which in Delhi major borders are blocked, Trains are not runnin…\n",
            "\n",
            "3) _india: ~Woollen Clothes~\n",
            "\n",
            "Our teams are distributing woollens to our farmer brothers and sisters on everyday basis at Singhu…\n",
            "\n",
            "4) what will and strength this bibi ji has to say she will not walk away until this ends! May that be she walks away alive or dead 🙏 spirit womeninthefrontline FarmBills2020 FarmersProtestDelhi2020 FarmerProtest \n",
            "\n",
            "5) _india: ~Woollen Clothes~\n",
            "\n",
            "Our teams are distributing woollens to our farmer brothers and sisters on everyday basis at Singhu…\n",
            "\n",
            "6) : Farmers dying-Ok Farmers eating Pizza -Not Ok.Indian media is long dead inside. FarmerProtest  …\n",
            "\n",
            "7) _india: ~Woollen Clothes~\n",
            "\n",
            "Our teams are distributing woollens to our farmer brothers and sisters on everyday basis at Singhu…\n",
            "\n",
            "8) _india: ~Woollen Clothes~\n",
            "\n",
            "Our teams are distributing woollens to our farmer brothers and sisters on everyday basis at Singhu…\n",
            "\n"
          ],
          "name": "stdout"
        }
      ]
    },
    {
      "cell_type": "code",
      "metadata": {
        "colab": {
          "base_uri": "https://localhost:8080/",
          "height": 1000
        },
        "id": "X1mme0ASVrQ1",
        "outputId": "f159a170-9247-4577-f808-3b4d1e48934c"
      },
      "source": [
        "#Print all of the Neutral\r\n",
        "j=1\r\n",
        "\r\n",
        "sortedDF = df.sort_values(by=['Polarity'])\r\n",
        "for i in range(0, sortedDF.shape[0]): #Number of rows in a df\r\n",
        "  if (sortedDF['Analysis'][i]=='Neutral'):\r\n",
        "    print(str(j) + ') ' + sortedDF['Tweets'][i] +'\\n')\r\n",
        "    #print()\r\n",
        "    j=j+1\r\n",
        "\"\"\"\r\n",
        "#sortedDF = df.sort_values(by=['Polarity'])\r\n",
        "for i in range(0, df.shape[0]): #Number of rows in a df\r\n",
        "  if (sortedDF['Analysis'][i]=='Neutral'):\r\n",
        "    print(str(j) + ') ' + df['Tweets'][i] +'\\n')\r\n",
        "    #print()\r\n",
        "    j=j+1\r\n",
        "\"\"\""
      ],
      "execution_count": 172,
      "outputs": [
        {
          "output_type": "stream",
          "text": [
            "1) : Did you trust your PM on 15 lakhs?\n",
            "Did you trust your PM on give me 50 days for demonetization?\n",
            "Did you trust your PM…\n",
            "\n",
            "2) : CAAProtests\n",
            "TablighiJamaat\n",
            "MigrantCrisis\n",
            "SSRDeath\n",
            "FarmerProtest\n",
            "EconomicDownturn\n",
            "In 2020, every step of the way- ci…\n",
            "\n",
            "3) : Tomorrow - I’ll be joining my fellow Sikh artists from UK, CAN &amp; USA for a second event of expressing solidarity with the…\n",
            "\n",
            "4) The Indian team wanted to support the farmers protest and mistook MSP for Minimum Score Possible.😄😄. \n",
            "\n",
            "AUSvIND INDvsAUS   FarmerProtest ModiWithFarmers INDvsAUSTest\n",
            "\n",
            "5) : CAAProtests\n",
            "TablighiJamaat\n",
            "MigrantCrisis\n",
            "SSRDeath\n",
            "FarmerProtest\n",
            "EconomicDownturn\n",
            "In 2020, every step of the way- ci…\n",
            "\n",
            "6) : CAAProtests\n",
            "TablighiJamaat\n",
            "MigrantCrisis\n",
            "SSRDeath\n",
            "FarmerProtest\n",
            "EconomicDownturn\n",
            "In 2020, every step of the way- ci…\n",
            "\n",
            "7) : Tomorrow - I’ll be joining my fellow Sikh artists from UK, CAN &amp; USA for a second event of expressing solidarity with the…\n",
            "\n",
            "8) : CAAProtests\n",
            "TablighiJamaat\n",
            "MigrantCrisis\n",
            "SSRDeath\n",
            "FarmerProtest\n",
            "EconomicDownturn\n",
            "In 2020, every step of the way- ci…\n",
            "\n",
            "9) : CAAProtests\n",
            "TablighiJamaat\n",
            "MigrantCrisis\n",
            "SSRDeath\n",
            "FarmerProtest\n",
            "EconomicDownturn\n",
            "In 2020, every step of the way- ci…\n",
            "\n",
            "10) : Tomorrow - I’ll be joining my fellow Sikh artists from UK, CAN &amp; USA for a second event of expressing solidarity with the…\n",
            "\n",
            "11) : CAAProtests\n",
            "TablighiJamaat\n",
            "MigrantCrisis\n",
            "SSRDeath\n",
            "FarmerProtest\n",
            "EconomicDownturn\n",
            "In 2020, every step of the way- ci…\n",
            "\n",
            "12) : CAAProtests\n",
            "TablighiJamaat\n",
            "MigrantCrisis\n",
            "SSRDeath\n",
            "FarmerProtest\n",
            "EconomicDownturn\n",
            "In 2020, every step of the way- ci…\n",
            "\n",
            "13) : CAAProtests\n",
            "TablighiJamaat\n",
            "MigrantCrisis\n",
            "SSRDeath\n",
            "FarmerProtest\n",
            "EconomicDownturn\n",
            "In 2020, every step of the way- ci…\n",
            "\n",
            "14) : CAAProtests\n",
            "TablighiJamaat\n",
            "MigrantCrisis\n",
            "SSRDeath\n",
            "FarmerProtest\n",
            "EconomicDownturn\n",
            "In 2020, every step of the way- ci…\n",
            "\n",
            "15) : CAAProtests\n",
            "TablighiJamaat\n",
            "MigrantCrisis\n",
            "SSRDeath\n",
            "FarmerProtest\n",
            "EconomicDownturn\n",
            "In 2020, every step of the way- ci…\n",
            "\n",
            "16) : CAAProtests\n",
            "TablighiJamaat\n",
            "MigrantCrisis\n",
            "SSRDeath\n",
            "FarmerProtest\n",
            "EconomicDownturn\n",
            "In 2020, every step of the way- ci…\n",
            "\n",
            "17) : CAAProtests\n",
            "TablighiJamaat\n",
            "MigrantCrisis\n",
            "SSRDeath\n",
            "FarmerProtest\n",
            "EconomicDownturn\n",
            "In 2020, every step of the way- ci…\n",
            "\n",
            "18) : CAAProtests\n",
            "TablighiJamaat\n",
            "MigrantCrisis\n",
            "SSRDeath\n",
            "FarmerProtest\n",
            "EconomicDownturn\n",
            "In 2020, every step of the way- ci…\n",
            "\n",
            "19) : CAAProtests\n",
            "TablighiJamaat\n",
            "MigrantCrisis\n",
            "SSRDeath\n",
            "FarmerProtest\n",
            "EconomicDownturn\n",
            "In 2020, every step of the way- ci…\n",
            "\n",
            "20) :           @…\n",
            "\n",
            "21)             _in       _1978   _fdes        _Observer1947  Only people benefited from achhe din FarmerProtest      _            \n",
            "\n",
            "22) : CAAProtests\n",
            "TablighiJamaat\n",
            "MigrantCrisis\n",
            "SSRDeath\n",
            "FarmerProtest\n",
            "EconomicDownturn\n",
            "In 2020, every step of the way- ci…\n",
            "\n",
            "23) : CAAProtests\n",
            "TablighiJamaat\n",
            "MigrantCrisis\n",
            "SSRDeath\n",
            "FarmerProtest\n",
            "EconomicDownturn\n",
            "In 2020, every step of the way- ci…\n",
            "\n",
            "24) : CAAProtests\n",
            "TablighiJamaat\n",
            "MigrantCrisis\n",
            "SSRDeath\n",
            "FarmerProtest\n",
            "EconomicDownturn\n",
            "In 2020, every step of the way- ci…\n",
            "\n",
            "25) : CAAProtests\n",
            "TablighiJamaat\n",
            "MigrantCrisis\n",
            "SSRDeath\n",
            "FarmerProtest\n",
            "EconomicDownturn\n",
            "In 2020, every step of the way- ci…\n",
            "\n",
            "26) : CAAProtests\n",
            "TablighiJamaat\n",
            "MigrantCrisis\n",
            "SSRDeath\n",
            "FarmerProtest\n",
            "EconomicDownturn\n",
            "In 2020, every step of the way- ci…\n",
            "\n",
            "27) : CAAProtests\n",
            "TablighiJamaat\n",
            "MigrantCrisis\n",
            "SSRDeath\n",
            "FarmerProtest\n",
            "EconomicDownturn\n",
            "In 2020, every step of the way- ci…\n",
            "\n",
            "28) _singh 22ji  we need you at singhu border Farmerprotest \n",
            "\n",
            "29) : CAAProtests\n",
            "TablighiJamaat\n",
            "MigrantCrisis\n",
            "SSRDeath\n",
            "FarmerProtest\n",
            "EconomicDownturn\n",
            "In 2020, every step of the way- ci…\n",
            "\n",
            "30) : CAAProtests\n",
            "TablighiJamaat\n",
            "MigrantCrisis\n",
            "SSRDeath\n",
            "FarmerProtest\n",
            "EconomicDownturn\n",
            "In 2020, every step of the way- ci…\n",
            "\n",
            "31) : CAAProtests\n",
            "TablighiJamaat\n",
            "MigrantCrisis\n",
            "SSRDeath\n",
            "FarmerProtest\n",
            "EconomicDownturn\n",
            "In 2020, every step of the way- ci…\n",
            "\n",
            "32) : SUKHBIR SINGH 🙏🏾\n",
            "\n",
            "A FARMER’S SON DIES IN LINE OF DUTY IN J&amp;K 🙏🏾\n",
            "\n",
            "WE ARE FARMERS NOT TERRORISTS 🙏🏾🙏🏾\n",
            "\n",
            "FarmerProtest http…\n",
            "\n",
            "33) _india: This shelter home extension was decided assessing the need of the farmer community as winters are getting harsher by t…\n",
            "\n",
            "34) _singh20:  Its my regular practice.\n",
            "Step1-Open the profile\n",
            "Step2-Find Symptoms of Bhakt disease\n",
            "Step3-Vaccine it [l…\n",
            "\n",
            "35)  A well managed protest! \n",
            "FarmerProtest\n",
            "\n",
            "36) A farmer works so world can eat\n",
            "FarmersAreLifeLine मै_किसान_दा_आईटी_सैल \n",
            "FarmerProtest SpeakUpForFarmers\n",
            " Tractor2Twitter WeSupportFarmers StandwithFarmersProtest\n",
            "FarmersAreLifeLine \n",
            "\n",
            "37) Been a while since I've written a Bushy Beard &amp; Basslines blog, this one is titled 'Why do I believe in a united India?'\n",
            "\n",
            "The farmerprotest has shown that unity is empowerment, our history shows us the sacrifices we have made &amp; why we have to protect it.\n",
            "\n",
            "\n",
            "\n",
            "38) : TrolleyTimes a bilingual newsletter from the FarmerProtest \n",
            "\n",
            "Do read and share. Inbox for pdf! \n",
            "\n",
            "_natt …\n",
            "\n",
            "39) : It made me emotinal😢and angry😡\n",
            "\n",
            "When i saw our farmers cry😢\n",
            "\n",
            "They deserve more🙏🏻respect than PM\n",
            "FarmersDyingModiEnjoyin…\n",
            "\n",
            "40)  When farmers tweet it burns on bhagat's a$$.\n",
            "FarmerProtest \n",
            "Tracter2Twitter \n",
            "\n",
            "41) No words\n",
            "FarmerProtest RepealFarmLaws FacebookJioAgainstFarmers GodiMediaShameShame \n",
            "\n",
            "42) : Did you trust your PM on 15 lakhs?\n",
            "Did you trust your PM on give me 50 days for demonetization?\n",
            "Did you trust your PM…\n",
            "\n",
            "43) Did you trust your PM on 15 lakhs?\n",
            "Did you trust your PM on give me 50 days for demonetization?\n",
            "Did you trust your PM on GST?\n",
            "Did you trust your PM on China?\n",
            "Did you trust your PM on GDP?\n",
            "Did you trust your PM on PM Cares Fund?\n",
            "\n",
            "So\n",
            "\n",
            "Why should you trust him on MSP?\n",
            "FarmerProtest\n",
            "\n",
            "44) No power on earth to stop FarmerProtest..this government has to listen to farmers\n",
            "Take back...Go back \n",
            "\n",
            "45) _singh20:  Its my regular practice.\n",
            "Step1-Open the profile\n",
            "Step2-Find Symptoms of Bhakt disease\n",
            "Step3-Vaccine it [l…\n",
            "\n",
            "46) : It made me emotinal😢and angry😡\n",
            "\n",
            "When i saw our farmers cry😢\n",
            "\n",
            "They deserve more🙏🏻respect than PM\n",
            "FarmersDyingModiEnjoyin…\n",
            "\n",
            "47) _bhathal: We are farmer not a terrorist FarmersDoneWithModiJumlas  FarmersDoneWithModiJumlas farmerprotest \n",
            "\n",
            "48) : ROME 🇮🇹 ITALY .....🙏🙏 TakeBackFarmLaws Tractor2Twitter FarmerProtest FarmersAreLifeLine FarmersProtest2020 StandWithFarm…\n",
            "\n",
            "49) _india: This shelter home extension was decided assessing the need of the farmer community as winters are getting harsher by t…\n",
            "\n",
            "50) : It made me emotinal😢and angry😡\n",
            "\n",
            "When i saw our farmers cry😢\n",
            "\n",
            "They deserve more🙏🏻respect than PM\n",
            "FarmersDyingModiEnjoyin…\n",
            "\n",
            "51) : It made me emotinal😢and angry😡\n",
            "\n",
            "When i saw our farmers cry😢\n",
            "\n",
            "They deserve more🙏🏻respect than PM\n",
            "FarmersDyingModiEnjoyin…\n",
            "\n",
            "52) : It made me emotinal😢and angry😡\n",
            "\n",
            "When i saw our farmers cry😢\n",
            "\n",
            "They deserve more🙏🏻respect than PM\n",
            "FarmersDyingModiEnjoyin…\n",
            "\n",
            "53) : WE ARE FARMERS 🙏🏾\n",
            "\n",
            "NOT TERRORISTS 🙏🏾\n",
            "\n",
            "farmerprotest standwithfarmerschallenge \n",
            "\n",
            "54) It made me emotinal😢and angry😡\n",
            "\n",
            "When i saw our farmers cry😢\n",
            "\n",
            "They deserve more🙏🏻respect than PM\n",
            "FarmersDyingModiEnjoying FarmersDoneWithModiJumlas \n",
            "NTKRejectsFarmersBill FarmersBill TakeBackFarmLaws FarmerProtest farmersrprotest \n",
            "\n",
            "55) : Did you trust your PM on 15 lakhs?\n",
            "Did you trust your PM on give me 50 days for demonetization?\n",
            "Did you trust your PM…\n",
            "\n",
            "56)  Everyone must see this video 🙏 Punjabi Ikta Zindabad.FarmerProtest .💪\n",
            "\n",
            "57) : Modi doesn't know who he's dealing with. \n",
            "FarmersDoneWithModiJumlas \n",
            "Tracter2Twitter \n",
            "FarmerProtest\n",
            "\n",
            "58) Modi doesn't know who he's dealing with. \n",
            "FarmersDoneWithModiJumlas \n",
            "Tracter2Twitter \n",
            "FarmerProtest\n",
            "\n"
          ],
          "name": "stdout"
        },
        {
          "output_type": "execute_result",
          "data": {
            "application/vnd.google.colaboratory.intrinsic+json": {
              "type": "string"
            },
            "text/plain": [
              "\"\\n#sortedDF = df.sort_values(by=['Polarity'])\\nfor i in range(0, df.shape[0]): #Number of rows in a df\\n  if (sortedDF['Analysis'][i]=='Neutral'):\\n    print(str(j) + ') ' + df['Tweets'][i] +'\\n')\\n    #print()\\n    j=j+1\\n\""
            ]
          },
          "metadata": {
            "tags": []
          },
          "execution_count": 172
        }
      ]
    },
    {
      "cell_type": "code",
      "metadata": {
        "colab": {
          "base_uri": "https://localhost:8080/",
          "height": 441
        },
        "id": "7-j1vXi_WHXa",
        "outputId": "40428105-3026-4209-cad5-32f1d5d13c63"
      },
      "source": [
        "#Plot the polarity and subjectivity\r\n",
        "plt.figure(figsize=(8,6))\r\n",
        "for i in range(0, df.shape[0]):\r\n",
        "  plt.scatter(df['Polarity'][i], df['Subjectivity'][i], color='Teal') \r\n",
        "  #(x-axis, y-axis, color)\r\n",
        "\r\n",
        "plt.title('Sentiment Analysis')\r\n",
        "plt.xlabel('Polarity')\r\n",
        "plt.ylabel('Subjectivity')\r\n",
        "plt.show()"
      ],
      "execution_count": 173,
      "outputs": [
        {
          "output_type": "display_data",
          "data": {
            "image/png": "[encoded data removed]",
            "text/plain": [
              "<Figure size 576x432 with 1 Axes>"
            ]
          },
          "metadata": {
            "tags": []
          }
        }
      ]
    },
    {
      "cell_type": "code",
      "metadata": {
        "colab": {
          "base_uri": "https://localhost:8080/"
        },
        "id": "MFFku6ncW1O9",
        "outputId": "4af02ed0-0f1c-4429-c31e-058db128f225"
      },
      "source": [
        "#Get the percentage of positive tweets\r\n",
        "ptweets = df[df.Analysis == 'Positive']\r\n",
        "#ptweets = ptweets['Tweets']\r\n",
        "\r\n",
        "round( (ptweets.shape[0] / df.shape[0]) *100, 1)"
      ],
      "execution_count": 174,
      "outputs": [
        {
          "output_type": "execute_result",
          "data": {
            "text/plain": [
              "34.0"
            ]
          },
          "metadata": {
            "tags": []
          },
          "execution_count": 174
        }
      ]
    },
    {
      "cell_type": "code",
      "metadata": {
        "colab": {
          "base_uri": "https://localhost:8080/"
        },
        "id": "Rxpoeyy8XoPr",
        "outputId": "a2859eef-5706-47e1-dfa2-538ba6074c02"
      },
      "source": [
        "#Get the percentage of negative tweets\r\n",
        "ntweets = df[df.Analysis == 'Negative']\r\n",
        "#ntweets = ntweets['Tweets']\r\n",
        "\r\n",
        "round( (ntweets.shape[0] / df.shape[0]) *100, 1)"
      ],
      "execution_count": 175,
      "outputs": [
        {
          "output_type": "execute_result",
          "data": {
            "text/plain": [
              "8.0"
            ]
          },
          "metadata": {
            "tags": []
          },
          "execution_count": 175
        }
      ]
    },
    {
      "cell_type": "code",
      "metadata": {
        "colab": {
          "base_uri": "https://localhost:8080/"
        },
        "id": "Y73NyHZrXvnY",
        "outputId": "07ec6d7b-dbc5-4b10-e73d-72504505ecbf"
      },
      "source": [
        "#Get the percentage of Neutral tweets\r\n",
        "neutraltweets = df[df.Analysis == 'Neutral']\r\n",
        "#neutraltweets = neutraltweets['Tweets']\r\n",
        "\r\n",
        "round( (neutraltweets.shape[0] / df.shape[0]) *100, 1)"
      ],
      "execution_count": 176,
      "outputs": [
        {
          "output_type": "execute_result",
          "data": {
            "text/plain": [
              "58.0"
            ]
          },
          "metadata": {
            "tags": []
          },
          "execution_count": 176
        }
      ]
    },
    {
      "cell_type": "code",
      "metadata": {
        "colab": {
          "base_uri": "https://localhost:8080/",
          "height": 374
        },
        "id": "sUbykiboYCFM",
        "outputId": "2229c044-a16f-431e-dcd8-52d2eea766eb"
      },
      "source": [
        "#Show the value counts\r\n",
        "\r\n",
        "df['Analysis'].value_counts()\r\n",
        "\r\n",
        "#Plot and visualize the counts\r\n",
        "plt.title('Sentiment Analysis')\r\n",
        "plt.xlabel('Sentiment')\r\n",
        "plt.ylabel('Counts')\r\n",
        "df['Analysis'].value_counts().plot(kind='bar')\r\n",
        "plt.show()"
      ],
      "execution_count": 177,
      "outputs": [
        {
          "output_type": "display_data",
          "data": {
            "image/png": "[encoded data removed]",
            "text/plain": [
              "<Figure size 432x288 with 1 Axes>"
            ]
          },
          "metadata": {
            "tags": []
          }
        }
      ]
    },
    {
      "cell_type": "code",
      "metadata": {
        "colab": {
          "base_uri": "https://localhost:8080/",
          "height": 325
        },
        "id": "NuXBBRzbYjFd",
        "outputId": "acb1d099-64a1-478e-89ac-b0ab1abfa50f"
      },
      "source": [
        "#Show the value counts\r\n",
        "\r\n",
        "df['Analysis'].value_counts()\r\n",
        "\r\n",
        "#Plot and visualize the counts\r\n",
        "plt.title('Sentiment Analysis')\r\n",
        "plt.xlabel('Sentiment')\r\n",
        "plt.ylabel('Counts')\r\n",
        "df['Analysis'].value_counts().plot(kind='line')\r\n",
        "plt.show()"
      ],
      "execution_count": 178,
      "outputs": [
        {
          "output_type": "display_data",
          "data": {
            "image/png": "[encoded data removed]",
            "text/plain": [
              "<Figure size 432x288 with 1 Axes>"
            ]
          },
          "metadata": {
            "tags": []
          }
        }
      ]
    },
    {
      "cell_type": "code",
      "metadata": {
        "colab": {
          "base_uri": "https://localhost:8080/",
          "height": 307
        },
        "id": "HWD8pUWlYzNc",
        "outputId": "8743ff14-d974-4abf-daf9-42104c0554e6"
      },
      "source": [
        "#Show the value counts\r\n",
        "\r\n",
        "df['Analysis'].value_counts()\r\n",
        "\r\n",
        "#Plot and visualize the counts\r\n",
        "plt.title('Sentiment Analysis')\r\n",
        "plt.xlabel('Sentiment')\r\n",
        "plt.ylabel('Counts')\r\n",
        "df['Analysis'].value_counts().plot(kind='pie')\r\n",
        "plt.show()"
      ],
      "execution_count": 179,
      "outputs": [
        {
          "output_type": "display_data",
          "data": {
            "image/png": "[encoded data removed]",
            "text/plain": [
              "<Figure size 432x288 with 1 Axes>"
            ]
          },
          "metadata": {
            "tags": []
          }
        }
      ]
    }
  ]
}